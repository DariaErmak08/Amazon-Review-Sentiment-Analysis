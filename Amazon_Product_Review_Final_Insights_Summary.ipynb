{
 "cells": [
  {
   "cell_type": "markdown",
   "id": "b3396ed8-511e-451c-9c8f-cf81a55b1f98",
   "metadata": {},
   "source": [
    "## 📊 Final Insights Summary\n",
    "\n",
    "1. **Sentiment Analysis**  \n",
    "The sentiment distribution reveals a significant dominance of positive reviews (**4,438**) compared to neutral (**351**) and negative (**211**) ones. This highlights strong product satisfaction overall. However, it's essential to examine the negative reviews to identify potential areas for improvement.\n",
    "\n",
    "2. **Word Clouds for Positive and Negative Reviews**  \n",
    "Both positive and negative word clouds share many similar keywords, which may reduce the precision of sentiment-based interpretation. To enhance the accuracy of sentiment detection, a more advanced NLP model could be trained to better capture emotional context and differentiate between truly positive and negative expressions.\n",
    "\n",
    "3. **Rating Distribution by Sentiment**  \n",
    "Most users—regardless of sentiment—gave ratings above 3. For both neutral and positive sentiments, 75% of the reviews fall between **4 and 5 stars**. Interestingly, around **35% of users who wrote negative reviews still gave high ratings**, suggesting that the product generally performs well and meets its description, despite some unmet expectations or minor flaws. More detailed analysis is recommended for the **15–25% of users** who gave ratings between **1 and 3** to identify recurring issues for improvement.\n",
    "\n",
    "4. **Top 10 Most Helpful Reviews**  \n",
    "These reviews reflect user-perceived product value and provide useful insights for product development. Highlighting these can also support future marketing or customer engagement strategies.\n",
    "\n",
    "5. **Recommendation vs. Rating**  \n",
    "About **25% of users** gave high ratings (**3 to 5 stars**) yet did not recommend the product. This indicates that some reviews, while overall positive in tone or rating, might reflect dissatisfaction with specific features or external factors (e.g. shipping, packaging, expectations).  \n",
    "Conversely, most users who recommended the product gave it **4 to 5 stars**, though a few recommended it even with slightly lower scores. It's worth investigating the **high-rating / no-recommendation** group to determine whether issues lie with the product or the purchase experience.\n"
   ]
  },
  {
   "cell_type": "code",
   "execution_count": null,
   "id": "4b68121a-5177-49b0-81c9-5820c8187612",
   "metadata": {},
   "outputs": [],
   "source": []
  }
 ],
 "metadata": {
  "kernelspec": {
   "display_name": "Python 3 (ipykernel)",
   "language": "python",
   "name": "python3"
  },
  "language_info": {
   "codemirror_mode": {
    "name": "ipython",
    "version": 3
   },
   "file_extension": ".py",
   "mimetype": "text/x-python",
   "name": "python",
   "nbconvert_exporter": "python",
   "pygments_lexer": "ipython3",
   "version": "3.13.1"
  }
 },
 "nbformat": 4,
 "nbformat_minor": 5
}
